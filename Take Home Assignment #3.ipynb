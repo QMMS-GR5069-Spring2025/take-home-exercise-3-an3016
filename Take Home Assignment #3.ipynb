{
 "cells": [
  {
   "cell_type": "code",
   "execution_count": 0,
   "metadata": {
    "application/vnd.databricks.v1+cell": {
     "cellMetadata": {
      "byteLimit": 2048000,
      "rowLimit": 10000
     },
     "inputWidgets": {},
     "nuid": "6ce7e394-70a7-4549-adfa-fa55cd2340f7",
     "showTitle": false,
     "tableResultSettingsMap": {},
     "title": ""
    }
   },
   "outputs": [],
   "source": [
    "# F1 Race Position Prediction Model\n",
    "# ================================\n",
    "# Author: Aria Narang\n",
    "# Date: April 4, 2025\n",
    "# Project: Applied Data Science Take Home Excercise #3\n",
    "# Datasets used: raw/races.csv, raw/results.csv, raw/qualifying.csv, raw/drivers.csv\n",
    "#\n",
    "# This notebook builds a Random Forest Regression model to predict F1 race finishing\n",
    "# positions.\n",
    "#\n",
    "#\n",
    "# I track multiple experiments with MLflow, varying the following hyperparameters:\n",
    "# - n_estimators (number of trees)\n",
    "# - max_depth (tree depth)\n",
    "# - min_samples_split (minimum samples for a node split)\n",
    "# - min_samples_leaf (minimum samples for a leaf node)\n",
    "# - max_features (number of features to consider for best split)\n",
    "#\n",
    "# After comparing 10 different hyperparameter configurations, I select the best model\n",
    "# based on lowest RMSE (Root Mean Squared Error) and highest R² score."
   ]
  },
  {
   "cell_type": "code",
   "execution_count": 0,
   "metadata": {
    "application/vnd.databricks.v1+cell": {
     "cellMetadata": {
      "byteLimit": 2048000,
      "rowLimit": 10000
     },
     "inputWidgets": {},
     "nuid": "e7a8d163-8315-45a9-8e0e-10810412ac4d",
     "showTitle": false,
     "tableResultSettingsMap": {},
     "title": ""
    }
   },
   "outputs": [
    {
     "output_type": "stream",
     "name": "stdout",
     "output_type": "stream",
     "text": [
      "Requirement already satisfied: mlflow in /local_disk0/.ephemeral_nfs/envs/pythonEnv-970bfd20-793f-4e1e-92df-ce369c8761ec/lib/python3.11/site-packages (2.21.3)\nRequirement already satisfied: mlflow-skinny==2.21.3 in /local_disk0/.ephemeral_nfs/envs/pythonEnv-970bfd20-793f-4e1e-92df-ce369c8761ec/lib/python3.11/site-packages (from mlflow) (2.21.3)\nRequirement already satisfied: Flask<4 in /local_disk0/.ephemeral_nfs/envs/pythonEnv-970bfd20-793f-4e1e-92df-ce369c8761ec/lib/python3.11/site-packages (from mlflow) (3.1.0)\nRequirement already satisfied: Jinja2<4,>=2.11 in /local_disk0/.ephemeral_nfs/envs/pythonEnv-970bfd20-793f-4e1e-92df-ce369c8761ec/lib/python3.11/site-packages (from mlflow) (3.1.6)\nRequirement already satisfied: alembic!=1.10.0,<2 in /local_disk0/.ephemeral_nfs/envs/pythonEnv-970bfd20-793f-4e1e-92df-ce369c8761ec/lib/python3.11/site-packages (from mlflow) (1.15.2)\nRequirement already satisfied: docker<8,>=4.0.0 in /local_disk0/.ephemeral_nfs/envs/pythonEnv-970bfd20-793f-4e1e-92df-ce369c8761ec/lib/python3.11/site-packages (from mlflow) (7.1.0)\nRequirement already satisfied: graphene<4 in /local_disk0/.ephemeral_nfs/envs/pythonEnv-970bfd20-793f-4e1e-92df-ce369c8761ec/lib/python3.11/site-packages (from mlflow) (3.4.3)\nRequirement already satisfied: gunicorn<24 in /local_disk0/.ephemeral_nfs/envs/pythonEnv-970bfd20-793f-4e1e-92df-ce369c8761ec/lib/python3.11/site-packages (from mlflow) (23.0.0)\nRequirement already satisfied: markdown<4,>=3.3 in /local_disk0/.ephemeral_nfs/envs/pythonEnv-970bfd20-793f-4e1e-92df-ce369c8761ec/lib/python3.11/site-packages (from mlflow) (3.7)\nRequirement already satisfied: matplotlib<4 in /databricks/python3/lib/python3.11/site-packages (from mlflow) (3.7.2)\nRequirement already satisfied: numpy<3 in /databricks/python3/lib/python3.11/site-packages (from mlflow) (1.23.5)\nRequirement already satisfied: pandas<3 in /databricks/python3/lib/python3.11/site-packages (from mlflow) (1.5.3)\nRequirement already satisfied: pyarrow<20,>=4.0.0 in /databricks/python3/lib/python3.11/site-packages (from mlflow) (14.0.1)\nRequirement already satisfied: scikit-learn<2 in /databricks/python3/lib/python3.11/site-packages (from mlflow) (1.3.0)\nRequirement already satisfied: scipy<2 in /databricks/python3/lib/python3.11/site-packages (from mlflow) (1.11.1)\nRequirement already satisfied: sqlalchemy<3,>=1.4.0 in /local_disk0/.ephemeral_nfs/envs/pythonEnv-970bfd20-793f-4e1e-92df-ce369c8761ec/lib/python3.11/site-packages (from mlflow) (2.0.40)\nRequirement already satisfied: cachetools<6,>=5.0.0 in /databricks/python3/lib/python3.11/site-packages (from mlflow-skinny==2.21.3->mlflow) (5.3.3)\nRequirement already satisfied: click<9,>=7.0 in /local_disk0/.ephemeral_nfs/envs/pythonEnv-970bfd20-793f-4e1e-92df-ce369c8761ec/lib/python3.11/site-packages (from mlflow-skinny==2.21.3->mlflow) (8.1.8)\nRequirement already satisfied: cloudpickle<4 in /databricks/python3/lib/python3.11/site-packages (from mlflow-skinny==2.21.3->mlflow) (2.2.1)\nRequirement already satisfied: databricks-sdk<1,>=0.20.0 in /databricks/python3/lib/python3.11/site-packages (from mlflow-skinny==2.21.3->mlflow) (0.20.0)\nRequirement already satisfied: fastapi<1 in /local_disk0/.ephemeral_nfs/envs/pythonEnv-970bfd20-793f-4e1e-92df-ce369c8761ec/lib/python3.11/site-packages (from mlflow-skinny==2.21.3->mlflow) (0.115.12)\nRequirement already satisfied: gitpython<4,>=3.1.9 in /databricks/python3/lib/python3.11/site-packages (from mlflow-skinny==2.21.3->mlflow) (3.1.43)\nRequirement already satisfied: importlib_metadata!=4.7.0,<9,>=3.7.0 in /databricks/python3/lib/python3.11/site-packages (from mlflow-skinny==2.21.3->mlflow) (6.0.0)\nRequirement already satisfied: opentelemetry-api<3,>=1.9.0 in /local_disk0/.ephemeral_nfs/envs/pythonEnv-970bfd20-793f-4e1e-92df-ce369c8761ec/lib/python3.11/site-packages (from mlflow-skinny==2.21.3->mlflow) (1.31.1)\nRequirement already satisfied: opentelemetry-sdk<3,>=1.9.0 in /local_disk0/.ephemeral_nfs/envs/pythonEnv-970bfd20-793f-4e1e-92df-ce369c8761ec/lib/python3.11/site-packages (from mlflow-skinny==2.21.3->mlflow) (1.31.1)\nRequirement already satisfied: packaging<25 in /databricks/python3/lib/python3.11/site-packages (from mlflow-skinny==2.21.3->mlflow) (23.2)\nRequirement already satisfied: protobuf<6,>=3.12.0 in /databricks/python3/lib/python3.11/site-packages (from mlflow-skinny==2.21.3->mlflow) (4.24.1)\nRequirement already satisfied: pydantic<3,>=1.10.8 in /local_disk0/.ephemeral_nfs/envs/pythonEnv-970bfd20-793f-4e1e-92df-ce369c8761ec/lib/python3.11/site-packages (from mlflow-skinny==2.21.3->mlflow) (2.11.2)\nRequirement already satisfied: pyyaml<7,>=5.1 in /databricks/python3/lib/python3.11/site-packages (from mlflow-skinny==2.21.3->mlflow) (6.0)\nRequirement already satisfied: requests<3,>=2.17.3 in /databricks/python3/lib/python3.11/site-packages (from mlflow-skinny==2.21.3->mlflow) (2.31.0)\nRequirement already satisfied: sqlparse<1,>=0.4.0 in /databricks/python3/lib/python3.11/site-packages (from mlflow-skinny==2.21.3->mlflow) (0.5.0)\nRequirement already satisfied: typing-extensions<5,>=4.0.0 in /local_disk0/.ephemeral_nfs/envs/pythonEnv-970bfd20-793f-4e1e-92df-ce369c8761ec/lib/python3.11/site-packages (from mlflow-skinny==2.21.3->mlflow) (4.13.1)\nRequirement already satisfied: uvicorn<1 in /local_disk0/.ephemeral_nfs/envs/pythonEnv-970bfd20-793f-4e1e-92df-ce369c8761ec/lib/python3.11/site-packages (from mlflow-skinny==2.21.3->mlflow) (0.34.0)\nRequirement already satisfied: Mako in /local_disk0/.ephemeral_nfs/envs/pythonEnv-970bfd20-793f-4e1e-92df-ce369c8761ec/lib/python3.11/site-packages (from alembic!=1.10.0,<2->mlflow) (1.3.9)\nRequirement already satisfied: urllib3>=1.26.0 in /databricks/python3/lib/python3.11/site-packages (from docker<8,>=4.0.0->mlflow) (1.26.16)\nRequirement already satisfied: Werkzeug>=3.1 in /local_disk0/.ephemeral_nfs/envs/pythonEnv-970bfd20-793f-4e1e-92df-ce369c8761ec/lib/python3.11/site-packages (from Flask<4->mlflow) (3.1.3)\nRequirement already satisfied: itsdangerous>=2.2 in /local_disk0/.ephemeral_nfs/envs/pythonEnv-970bfd20-793f-4e1e-92df-ce369c8761ec/lib/python3.11/site-packages (from Flask<4->mlflow) (2.2.0)\nRequirement already satisfied: blinker>=1.9 in /local_disk0/.ephemeral_nfs/envs/pythonEnv-970bfd20-793f-4e1e-92df-ce369c8761ec/lib/python3.11/site-packages (from Flask<4->mlflow) (1.9.0)\nRequirement already satisfied: graphql-core<3.3,>=3.1 in /local_disk0/.ephemeral_nfs/envs/pythonEnv-970bfd20-793f-4e1e-92df-ce369c8761ec/lib/python3.11/site-packages (from graphene<4->mlflow) (3.2.6)\nRequirement already satisfied: graphql-relay<3.3,>=3.1 in /local_disk0/.ephemeral_nfs/envs/pythonEnv-970bfd20-793f-4e1e-92df-ce369c8761ec/lib/python3.11/site-packages (from graphene<4->mlflow) (3.2.0)\nRequirement already satisfied: python-dateutil<3,>=2.7.0 in /databricks/python3/lib/python3.11/site-packages (from graphene<4->mlflow) (2.8.2)\nRequirement already satisfied: MarkupSafe>=2.0 in /local_disk0/.ephemeral_nfs/envs/pythonEnv-970bfd20-793f-4e1e-92df-ce369c8761ec/lib/python3.11/site-packages (from Jinja2<4,>=2.11->mlflow) (3.0.2)\nRequirement already satisfied: contourpy>=1.0.1 in /databricks/python3/lib/python3.11/site-packages (from matplotlib<4->mlflow) (1.0.5)\nRequirement already satisfied: cycler>=0.10 in /databricks/python3/lib/python3.11/site-packages (from matplotlib<4->mlflow) (0.11.0)\nRequirement already satisfied: fonttools>=4.22.0 in /databricks/python3/lib/python3.11/site-packages (from matplotlib<4->mlflow) (4.25.0)\nRequirement already satisfied: kiwisolver>=1.0.1 in /databricks/python3/lib/python3.11/site-packages (from matplotlib<4->mlflow) (1.4.4)\nRequirement already satisfied: pillow>=6.2.0 in /databricks/python3/lib/python3.11/site-packages (from matplotlib<4->mlflow) (9.4.0)\nRequirement already satisfied: pyparsing<3.1,>=2.3.1 in /databricks/python3/lib/python3.11/site-packages (from matplotlib<4->mlflow) (3.0.9)\nRequirement already satisfied: pytz>=2020.1 in /databricks/python3/lib/python3.11/site-packages (from pandas<3->mlflow) (2022.7)\nRequirement already satisfied: joblib>=1.1.1 in /databricks/python3/lib/python3.11/site-packages (from scikit-learn<2->mlflow) (1.2.0)\nRequirement already satisfied: threadpoolctl>=2.0.0 in /databricks/python3/lib/python3.11/site-packages (from scikit-learn<2->mlflow) (2.2.0)\nRequirement already satisfied: greenlet>=1 in /local_disk0/.ephemeral_nfs/envs/pythonEnv-970bfd20-793f-4e1e-92df-ce369c8761ec/lib/python3.11/site-packages (from sqlalchemy<3,>=1.4.0->mlflow) (3.1.1)\nRequirement already satisfied: google-auth~=2.0 in /databricks/python3/lib/python3.11/site-packages (from databricks-sdk<1,>=0.20.0->mlflow-skinny==2.21.3->mlflow) (2.31.0)\nRequirement already satisfied: starlette<0.47.0,>=0.40.0 in /local_disk0/.ephemeral_nfs/envs/pythonEnv-970bfd20-793f-4e1e-92df-ce369c8761ec/lib/python3.11/site-packages (from fastapi<1->mlflow-skinny==2.21.3->mlflow) (0.46.1)\nRequirement already satisfied: gitdb<5,>=4.0.1 in /databricks/python3/lib/python3.11/site-packages (from gitpython<4,>=3.1.9->mlflow-skinny==2.21.3->mlflow) (4.0.11)\nRequirement already satisfied: zipp>=0.5 in /databricks/python3/lib/python3.11/site-packages (from importlib_metadata!=4.7.0,<9,>=3.7.0->mlflow-skinny==2.21.3->mlflow) (3.11.0)\nRequirement already satisfied: deprecated>=1.2.6 in /local_disk0/.ephemeral_nfs/envs/pythonEnv-970bfd20-793f-4e1e-92df-ce369c8761ec/lib/python3.11/site-packages (from opentelemetry-api<3,>=1.9.0->mlflow-skinny==2.21.3->mlflow) (1.2.18)\nRequirement already satisfied: opentelemetry-semantic-conventions==0.52b1 in /local_disk0/.ephemeral_nfs/envs/pythonEnv-970bfd20-793f-4e1e-92df-ce369c8761ec/lib/python3.11/site-packages (from opentelemetry-sdk<3,>=1.9.0->mlflow-skinny==2.21.3->mlflow) (0.52b1)\nRequirement already satisfied: annotated-types>=0.6.0 in /local_disk0/.ephemeral_nfs/envs/pythonEnv-970bfd20-793f-4e1e-92df-ce369c8761ec/lib/python3.11/site-packages (from pydantic<3,>=1.10.8->mlflow-skinny==2.21.3->mlflow) (0.7.0)\nRequirement already satisfied: pydantic-core==2.33.1 in /local_disk0/.ephemeral_nfs/envs/pythonEnv-970bfd20-793f-4e1e-92df-ce369c8761ec/lib/python3.11/site-packages (from pydantic<3,>=1.10.8->mlflow-skinny==2.21.3->mlflow) (2.33.1)\nRequirement already satisfied: typing-inspection>=0.4.0 in /local_disk0/.ephemeral_nfs/envs/pythonEnv-970bfd20-793f-4e1e-92df-ce369c8761ec/lib/python3.11/site-packages (from pydantic<3,>=1.10.8->mlflow-skinny==2.21.3->mlflow) (0.4.0)\nRequirement already satisfied: six>=1.5 in /usr/lib/python3/dist-packages (from python-dateutil<3,>=2.7.0->graphene<4->mlflow) (1.16.0)\nRequirement already satisfied: charset-normalizer<4,>=2 in /databricks/python3/lib/python3.11/site-packages (from requests<3,>=2.17.3->mlflow-skinny==2.21.3->mlflow) (2.0.4)\nRequirement already satisfied: idna<4,>=2.5 in /databricks/python3/lib/python3.11/site-packages (from requests<3,>=2.17.3->mlflow-skinny==2.21.3->mlflow) (3.4)\nRequirement already satisfied: certifi>=2017.4.17 in /databricks/python3/lib/python3.11/site-packages (from requests<3,>=2.17.3->mlflow-skinny==2.21.3->mlflow) (2023.7.22)\nRequirement already satisfied: h11>=0.8 in /local_disk0/.ephemeral_nfs/envs/pythonEnv-970bfd20-793f-4e1e-92df-ce369c8761ec/lib/python3.11/site-packages (from uvicorn<1->mlflow-skinny==2.21.3->mlflow) (0.14.0)\nRequirement already satisfied: wrapt<2,>=1.10 in /local_disk0/.ephemeral_nfs/envs/pythonEnv-970bfd20-793f-4e1e-92df-ce369c8761ec/lib/python3.11/site-packages (from deprecated>=1.2.6->opentelemetry-api<3,>=1.9.0->mlflow-skinny==2.21.3->mlflow) (1.17.2)\nRequirement already satisfied: smmap<6,>=3.0.1 in /databricks/python3/lib/python3.11/site-packages (from gitdb<5,>=4.0.1->gitpython<4,>=3.1.9->mlflow-skinny==2.21.3->mlflow) (5.0.1)\nRequirement already satisfied: pyasn1-modules>=0.2.1 in /databricks/python3/lib/python3.11/site-packages (from google-auth~=2.0->databricks-sdk<1,>=0.20.0->mlflow-skinny==2.21.3->mlflow) (0.2.8)\nRequirement already satisfied: rsa<5,>=3.1.4 in /databricks/python3/lib/python3.11/site-packages (from google-auth~=2.0->databricks-sdk<1,>=0.20.0->mlflow-skinny==2.21.3->mlflow) (4.9)\nRequirement already satisfied: anyio<5,>=3.6.2 in /local_disk0/.ephemeral_nfs/envs/pythonEnv-970bfd20-793f-4e1e-92df-ce369c8761ec/lib/python3.11/site-packages (from starlette<0.47.0,>=0.40.0->fastapi<1->mlflow-skinny==2.21.3->mlflow) (4.9.0)\nRequirement already satisfied: sniffio>=1.1 in /local_disk0/.ephemeral_nfs/envs/pythonEnv-970bfd20-793f-4e1e-92df-ce369c8761ec/lib/python3.11/site-packages (from anyio<5,>=3.6.2->starlette<0.47.0,>=0.40.0->fastapi<1->mlflow-skinny==2.21.3->mlflow) (1.3.1)\nRequirement already satisfied: pyasn1<0.5.0,>=0.4.6 in /databricks/python3/lib/python3.11/site-packages (from pyasn1-modules>=0.2.1->google-auth~=2.0->databricks-sdk<1,>=0.20.0->mlflow-skinny==2.21.3->mlflow) (0.4.8)\n\u001B[43mNote: you may need to restart the kernel using %restart_python or dbutils.library.restartPython() to use updated packages.\u001B[0m\n"
     ]
    }
   ],
   "source": [
    "# Install mlflow\n",
    "!pip install mlflow\n",
    "\n"
   ]
  },
  {
   "cell_type": "code",
   "execution_count": 0,
   "metadata": {
    "application/vnd.databricks.v1+cell": {
     "cellMetadata": {
      "byteLimit": 2048000,
      "rowLimit": 10000
     },
     "inputWidgets": {},
     "nuid": "d6364b00-178b-488a-a1b3-bfb43d8af480",
     "showTitle": false,
     "tableResultSettingsMap": {},
     "title": ""
    }
   },
   "outputs": [],
   "source": [
    "# Import all packages\n",
    "import pandas as pd\n",
    "import numpy as np\n",
    "import matplotlib.pyplot as plt\n",
    "import seaborn as sns\n",
    "from sklearn.ensemble import RandomForestRegressor\n",
    "from sklearn.model_selection import train_test_split\n",
    "from sklearn.preprocessing import StandardScaler, OneHotEncoder\n",
    "from sklearn.metrics import mean_squared_error, mean_absolute_error, r2_score\n",
    "from sklearn.compose import ColumnTransformer\n",
    "from sklearn.pipeline import Pipeline\n",
    "import mlflow\n",
    "import mlflow.sklearn\n",
    "from datetime import datetime\n",
    "import os"
   ]
  },
  {
   "cell_type": "code",
   "execution_count": 0,
   "metadata": {
    "application/vnd.databricks.v1+cell": {
     "cellMetadata": {
      "byteLimit": 2048000,
      "rowLimit": 10000
     },
     "inputWidgets": {},
     "nuid": "e54f81f9-9935-4ffb-b1c7-744a20cc2d63",
     "showTitle": false,
     "tableResultSettingsMap": {},
     "title": ""
    }
   },
   "outputs": [
    {
     "output_type": "stream",
     "name": "stdout",
     "output_type": "stream",
     "text": [
      "Races columns: ['raceId', 'year', 'round', 'circuitId', 'name', 'date', 'time', 'url', 'fp1_date', 'fp1_time', 'fp2_date', 'fp2_time', 'fp3_date', 'fp3_time', 'quali_date', 'quali_time', 'sprint_date', 'sprint_time']\nResults columns: ['resultId', 'raceId', 'driverId', 'constructorId', 'number', 'grid', 'position', 'positionText', 'positionOrder', 'points', 'laps', 'time', 'milliseconds', 'fastestLap', 'rank', 'fastestLapTime', 'fastestLapSpeed', 'statusId']\nQualifying columns: ['qualifyId', 'raceId', 'driverId', 'constructorId', 'number', 'position', 'q1', 'q2', 'q3']\nDrivers columns: ['driverId', 'driverRef', 'number', 'code', 'forename', 'surname', 'dob', 'nationality', 'url']\n"
     ]
    }
   ],
   "source": [
    "# Load races data\n",
    "races_df = spark.read.csv('s3://columbia-gr5069-main/raw/races.csv', header=True, inferSchema=True)\n",
    "# Convert to Pandas for easier data manipulation\n",
    "races = races_df.toPandas()\n",
    "print(\"Races columns:\", races.columns.tolist())\n",
    "\n",
    "# Load results data\n",
    "results_df = spark.read.csv('s3://columbia-gr5069-main/raw/results.csv', header=True, inferSchema=True)\n",
    "results = results_df.toPandas()\n",
    "print(\"Results columns:\", results.columns.tolist())\n",
    "\n",
    "# Load qualifying data\n",
    "qualifying_df = spark.read.csv('s3://columbia-gr5069-main/raw/qualifying.csv', header=True, inferSchema=True)\n",
    "qualifying = qualifying_df.toPandas()\n",
    "print(\"Qualifying columns:\", qualifying.columns.tolist())\n",
    "\n",
    "# Load drivers data\n",
    "drivers_df = spark.read.csv('s3://columbia-gr5069-main/raw/drivers.csv', header=True, inferSchema=True)\n",
    "drivers = drivers_df.toPandas()\n",
    "print(\"Drivers columns:\", drivers.columns.tolist())"
   ]
  },
  {
   "cell_type": "code",
   "execution_count": 0,
   "metadata": {
    "application/vnd.databricks.v1+cell": {
     "cellMetadata": {
      "byteLimit": 2048000,
      "rowLimit": 10000
     },
     "inputWidgets": {},
     "nuid": "b997e0ff-a4e9-43cd-a762-6a14855eb19e",
     "showTitle": false,
     "tableResultSettingsMap": {},
     "title": ""
    }
   },
   "outputs": [],
   "source": [
    "#Data preparation\n",
    "def prepare_dataset(races, results, qualifying, drivers):\n",
    "    \"\"\"\n",
    "    Merges and prepares data for modeling\n",
    "    \"\"\"\n",
    "    # Create feature dataframe by merging datasets\n",
    "    # Join qualifying data with results\n",
    "    df = pd.merge(qualifying[['raceId', 'driverId', 'position']], \n",
    "                  results[['raceId', 'driverId', 'position', 'grid', 'statusId']], \n",
    "                  on=['raceId', 'driverId'], \n",
    "                  suffixes=('_quali', ''))\n",
    "    \n",
    "    # Add race information \n",
    "    df = pd.merge(df, races[['raceId', 'year', 'round', 'circuitId']], on='raceId')\n",
    "    \n",
    "    # Add driver information\n",
    "    # Calculate driver experience at time of race\n",
    "    drivers_with_exp = drivers.copy()\n",
    "    \n",
    "    # Convert driver DOB to datetime\n",
    "    drivers_with_exp['dob'] = pd.to_datetime(drivers_with_exp['dob'], errors='coerce')\n",
    "    \n",
    "    # Join with race date\n",
    "    race_driver = pd.merge(\n",
    "        df[['raceId', 'driverId']], \n",
    "        races[['raceId', 'date']], \n",
    "        on='raceId'\n",
    "    )\n",
    "    race_driver['date'] = pd.to_datetime(race_driver['date'], errors='coerce')\n",
    "    race_driver = pd.merge(\n",
    "        race_driver,\n",
    "        drivers_with_exp[['driverId', 'dob']],\n",
    "        on='driverId'\n",
    "    )\n",
    "    \n",
    "    # Calculate age/experience at race time\n",
    "    race_driver['experience_years'] = (race_driver['date'] - race_driver['dob']).dt.days / 365.25\n",
    "    \n",
    "    # Join back to main dataframe\n",
    "    df = pd.merge(\n",
    "        df,\n",
    "        race_driver[['raceId', 'driverId', 'experience_years']],\n",
    "        on=['raceId', 'driverId']\n",
    "    )\n",
    "    \n",
    "    # Extract fastest lap information if available\n",
    "    if 'fastestLapTime' in results.columns:\n",
    "        fastest_lap_data = results[['raceId', 'driverId', 'fastestLap', 'fastestLapTime', 'fastestLapSpeed']]\n",
    "        df = pd.merge(df, fastest_lap_data, on=['raceId', 'driverId'], how='left')\n",
    "    \n",
    "    # Convert race position to numeric\n",
    "    if 'position' in df.columns:\n",
    "        df['position_result'] = pd.to_numeric(df['position'], errors='coerce')\n",
    "    \n",
    "    # Drop rows where position_result is missing or invalid\n",
    "    df = df.dropna(subset=['position_result'])\n",
    "    \n",
    "    # Feature engineering\n",
    "    # Calculate position difference from qualifying to race result\n",
    "    df['position_change'] = df['position_quali'] - df['position_result']\n",
    "    \n",
    "    # Create binary feature for race completion \n",
    "    df['finished_race'] = (df['statusId'] == 1)\n",
    "    \n",
    "    # Convert qualifying times to seconds \n",
    "    for q_col in ['q1', 'q2', 'q3']:\n",
    "        if q_col in qualifying.columns:\n",
    "            q_times = qualifying[['raceId', 'driverId', q_col]].copy()\n",
    "            df = pd.merge(df, q_times, on=['raceId', 'driverId'], how='left')\n",
    "            \n",
    "            # Convert time strings to seconds \n",
    "            if df[q_col].dtype == 'object':  \n",
    "                def convert_time_to_seconds(time_str):\n",
    "                    if pd.isna(time_str):\n",
    "                        return np.nan\n",
    "                    try:\n",
    "                        if ':' in time_str:\n",
    "                            mins, rest = time_str.split(':')\n",
    "                            secs = float(mins) * 60 + float(rest)\n",
    "                        else:\n",
    "                            secs = float(time_str)\n",
    "                        return secs\n",
    "                    except:\n",
    "                        return np.nan\n",
    "                \n",
    "                df[f'{q_col}_seconds'] = df[q_col].apply(convert_time_to_seconds)\n",
    "    \n",
    "    # Drop rows with missing values in key columns\n",
    "    df = df.dropna(subset=['position_quali', 'position_result', 'grid', 'experience_years'])\n",
    "    \n",
    "    return df"
   ]
  },
  {
   "cell_type": "code",
   "execution_count": 0,
   "metadata": {
    "application/vnd.databricks.v1+cell": {
     "cellMetadata": {
      "byteLimit": 2048000,
      "rowLimit": 10000
     },
     "inputWidgets": {},
     "nuid": "1dabc127-15d4-4df7-a3a1-d431c4cd03be",
     "showTitle": false,
     "tableResultSettingsMap": {},
     "title": ""
    }
   },
   "outputs": [
    {
     "output_type": "stream",
     "name": "stdout",
     "output_type": "stream",
     "text": [
      "Prepared dataset shape: (7451, 22)\n"
     ]
    },
    {
     "output_type": "display_data",
     "data": {
      "text/html": [
       "<style scoped>\n",
       "  .table-result-container {\n",
       "    max-height: 300px;\n",
       "    overflow: auto;\n",
       "  }\n",
       "  table, th, td {\n",
       "    border: 1px solid black;\n",
       "    border-collapse: collapse;\n",
       "  }\n",
       "  th, td {\n",
       "    padding: 5px;\n",
       "  }\n",
       "  th {\n",
       "    text-align: left;\n",
       "  }\n",
       "</style><div class='table-result-container'><table class='table-result'><thead style='background-color: white'><tr><th>raceId</th><th>driverId</th><th>position_quali</th><th>position</th><th>grid</th><th>statusId</th><th>year</th><th>round</th><th>circuitId</th><th>experience_years</th><th>fastestLap</th><th>fastestLapTime</th><th>fastestLapSpeed</th><th>position_result</th><th>position_change</th><th>finished_race</th><th>q1</th><th>q1_seconds</th><th>q2</th><th>q2_seconds</th><th>q3</th><th>q3_seconds</th></tr></thead><tbody><tr><td>18</td><td>1</td><td>1</td><td>1</td><td>1</td><td>1</td><td>2008</td><td>1</td><td>1</td><td>23.186858316221766</td><td>39</td><td>1:27.452</td><td>218.300</td><td>1.0</td><td>0.0</td><td>true</td><td>1:26.572</td><td>86.572</td><td>1:25.187</td><td>85.187</td><td>1:26.714</td><td>86.714</td></tr><tr><td>18</td><td>5</td><td>3</td><td>5</td><td>3</td><td>1</td><td>2008</td><td>1</td><td>1</td><td>26.406570841889117</td><td>43</td><td>1:27.418</td><td>218.385</td><td>5.0</td><td>-2.0</td><td>true</td><td>1:25.664</td><td>85.664</td><td>1:25.452</td><td>85.452</td><td>1:27.079</td><td>87.07900000000001</td></tr><tr><td>18</td><td>2</td><td>5</td><td>2</td><td>5</td><td>1</td><td>2008</td><td>1</td><td>1</td><td>30.850102669404517</td><td>41</td><td>1:27.739</td><td>217.586</td><td>2.0</td><td>3.0</td><td>true</td><td>1:25.960</td><td>85.96000000000001</td><td>1:25.518</td><td>85.518</td><td>1:27.236</td><td>87.236</td></tr><tr><td>18</td><td>3</td><td>7</td><td>3</td><td>7</td><td>1</td><td>2008</td><td>1</td><td>1</td><td>22.718685831622178</td><td>41</td><td>1:28.090</td><td>216.719</td><td>3.0</td><td>4.0</td><td>true</td><td>1:26.295</td><td>86.295</td><td>1:26.059</td><td>86.059</td><td>1:28.687</td><td>88.687</td></tr><tr><td>18</td><td>4</td><td>12</td><td>4</td><td>11</td><td>1</td><td>2008</td><td>1</td><td>1</td><td>26.63107460643395</td><td>58</td><td>1:28.603</td><td>215.464</td><td>4.0</td><td>8.0</td><td>true</td><td>1:26.907</td><td>86.907</td><td>1:26.188</td><td>86.188</td><td>\\N</td><td>null</td></tr></tbody></table></div>"
      ]
     },
     "metadata": {
      "application/vnd.databricks.v1+output": {
       "addedWidgets": {},
       "aggData": [],
       "aggError": "",
       "aggOverflow": false,
       "aggSchema": [],
       "aggSeriesLimitReached": false,
       "aggType": "",
       "arguments": {},
       "columnCustomDisplayInfos": {},
       "data": [
        [
         18,
         1,
         1,
         "1",
         1,
         1,
         2008,
         1,
         1,
         23.186858316221766,
         "39",
         "1:27.452",
         "218.300",
         1.0,
         0.0,
         true,
         "1:26.572",
         86.572,
         "1:25.187",
         85.187,
         "1:26.714",
         86.714
        ],
        [
         18,
         5,
         3,
         "5",
         3,
         1,
         2008,
         1,
         1,
         26.406570841889117,
         "43",
         "1:27.418",
         "218.385",
         5.0,
         -2.0,
         true,
         "1:25.664",
         85.664,
         "1:25.452",
         85.452,
         "1:27.079",
         87.07900000000001
        ],
        [
         18,
         2,
         5,
         "2",
         5,
         1,
         2008,
         1,
         1,
         30.850102669404517,
         "41",
         "1:27.739",
         "217.586",
         2.0,
         3.0,
         true,
         "1:25.960",
         85.96000000000001,
         "1:25.518",
         85.518,
         "1:27.236",
         87.236
        ],
        [
         18,
         3,
         7,
         "3",
         7,
         1,
         2008,
         1,
         1,
         22.718685831622178,
         "41",
         "1:28.090",
         "216.719",
         3.0,
         4.0,
         true,
         "1:26.295",
         86.295,
         "1:26.059",
         86.059,
         "1:28.687",
         88.687
        ],
        [
         18,
         4,
         12,
         "4",
         11,
         1,
         2008,
         1,
         1,
         26.63107460643395,
         "58",
         "1:28.603",
         "215.464",
         4.0,
         8.0,
         true,
         "1:26.907",
         86.907,
         "1:26.188",
         86.188,
         "\\N",
         null
        ]
       ],
       "datasetInfos": [],
       "dbfsResultPath": null,
       "isJsonSchema": true,
       "metadata": {},
       "overflow": false,
       "plotOptions": {
        "customPlotOptions": {},
        "displayType": "table",
        "pivotAggregation": null,
        "pivotColumns": null,
        "xColumns": null,
        "yColumns": null
       },
       "removedWidgets": [],
       "schema": [
        {
         "metadata": "{}",
         "name": "raceId",
         "type": "\"integer\""
        },
        {
         "metadata": "{}",
         "name": "driverId",
         "type": "\"integer\""
        },
        {
         "metadata": "{}",
         "name": "position_quali",
         "type": "\"integer\""
        },
        {
         "metadata": "{}",
         "name": "position",
         "type": "\"string\""
        },
        {
         "metadata": "{}",
         "name": "grid",
         "type": "\"integer\""
        },
        {
         "metadata": "{}",
         "name": "statusId",
         "type": "\"integer\""
        },
        {
         "metadata": "{}",
         "name": "year",
         "type": "\"integer\""
        },
        {
         "metadata": "{}",
         "name": "round",
         "type": "\"integer\""
        },
        {
         "metadata": "{}",
         "name": "circuitId",
         "type": "\"integer\""
        },
        {
         "metadata": "{}",
         "name": "experience_years",
         "type": "\"double\""
        },
        {
         "metadata": "{}",
         "name": "fastestLap",
         "type": "\"string\""
        },
        {
         "metadata": "{}",
         "name": "fastestLapTime",
         "type": "\"string\""
        },
        {
         "metadata": "{}",
         "name": "fastestLapSpeed",
         "type": "\"string\""
        },
        {
         "metadata": "{}",
         "name": "position_result",
         "type": "\"double\""
        },
        {
         "metadata": "{}",
         "name": "position_change",
         "type": "\"double\""
        },
        {
         "metadata": "{}",
         "name": "finished_race",
         "type": "\"boolean\""
        },
        {
         "metadata": "{}",
         "name": "q1",
         "type": "\"string\""
        },
        {
         "metadata": "{}",
         "name": "q1_seconds",
         "type": "\"double\""
        },
        {
         "metadata": "{}",
         "name": "q2",
         "type": "\"string\""
        },
        {
         "metadata": "{}",
         "name": "q2_seconds",
         "type": "\"double\""
        },
        {
         "metadata": "{}",
         "name": "q3",
         "type": "\"string\""
        },
        {
         "metadata": "{}",
         "name": "q3_seconds",
         "type": "\"double\""
        }
       ],
       "type": "table"
      }
     },
     "output_type": "display_data"
    }
   ],
   "source": [
    "# Call the prepare_dataset function and store the result in df\n",
    "df = prepare_dataset(races, results, qualifying, drivers)\n",
    "\n",
    "# Print a sample of the prepared dataset\n",
    "print(f\"Prepared dataset shape: {df.shape}\")\n",
    "display(df.head())"
   ]
  },
  {
   "cell_type": "code",
   "execution_count": 0,
   "metadata": {
    "application/vnd.databricks.v1+cell": {
     "cellMetadata": {
      "byteLimit": 2048000,
      "rowLimit": 10000
     },
     "inputWidgets": {},
     "nuid": "35fc8826-1167-4584-9a8e-4d4f301c5824",
     "showTitle": false,
     "tableResultSettingsMap": {},
     "title": ""
    }
   },
   "outputs": [
    {
     "output_type": "stream",
     "name": "stderr",
     "output_type": "stream",
     "text": [
      "/root/.ipykernel/1131/command-9004334233258056-1924523281:10: SettingWithCopyWarning: \nA value is trying to be set on a copy of a slice from a DataFrame.\nTry using .loc[row_indexer,col_indexer] = value instead\n\nSee the caveats in the documentation: https://pandas.pydata.org/pandas-docs/stable/user_guide/indexing.html#returning-a-view-versus-a-copy\n  X[col] = df[col]\n/root/.ipykernel/1131/command-9004334233258056-1924523281:10: SettingWithCopyWarning: \nA value is trying to be set on a copy of a slice from a DataFrame.\nTry using .loc[row_indexer,col_indexer] = value instead\n\nSee the caveats in the documentation: https://pandas.pydata.org/pandas-docs/stable/user_guide/indexing.html#returning-a-view-versus-a-copy\n  X[col] = df[col]\n/root/.ipykernel/1131/command-9004334233258056-1924523281:10: SettingWithCopyWarning: \nA value is trying to be set on a copy of a slice from a DataFrame.\nTry using .loc[row_indexer,col_indexer] = value instead\n\nSee the caveats in the documentation: https://pandas.pydata.org/pandas-docs/stable/user_guide/indexing.html#returning-a-view-versus-a-copy\n  X[col] = df[col]\n/root/.ipykernel/1131/command-9004334233258056-1924523281:14: SettingWithCopyWarning: \nA value is trying to be set on a copy of a slice from a DataFrame.\nTry using .loc[row_indexer,col_indexer] = value instead\n\nSee the caveats in the documentation: https://pandas.pydata.org/pandas-docs/stable/user_guide/indexing.html#returning-a-view-versus-a-copy\n  X['fastestLapSpeed'] = df['fastestLapSpeed']\n/root/.ipykernel/1131/command-9004334233258056-1924523281:26: SettingWithCopyWarning: \nA value is trying to be set on a copy of a slice from a DataFrame.\nTry using .loc[row_indexer,col_indexer] = value instead\n\nSee the caveats in the documentation: https://pandas.pydata.org/pandas-docs/stable/user_guide/indexing.html#returning-a-view-versus-a-copy\n  X[col] = X[col].replace('\\\\N', np.nan)\n/root/.ipykernel/1131/command-9004334233258056-1924523281:30: SettingWithCopyWarning: \nA value is trying to be set on a copy of a slice from a DataFrame.\nTry using .loc[row_indexer,col_indexer] = value instead\n\nSee the caveats in the documentation: https://pandas.pydata.org/pandas-docs/stable/user_guide/indexing.html#returning-a-view-versus-a-copy\n  X[col] = pd.to_numeric(X[col], errors='coerce')\n"
     ]
    },
    {
     "output_type": "stream",
     "name": "stdout",
     "output_type": "stream",
     "text": [
      "Feature dataset shape: (7451, 11)\nTarget variable shape: (7451,)\nColumns with missing values: q1_seconds           98\nq2_seconds         2985\nq3_seconds         4598\nfastestLapSpeed    1030\ndtype: int64\nFeature dataset shape after cleaning: (2844, 11)\nTarget variable shape after cleaning: (2844,)\nMSE: 5.9570\nRMSE: 2.4407\nMAE: 1.8278\nR²: 0.5990\n"
     ]
    },
    {
     "output_type": "stream",
     "name": "stderr",
     "output_type": "stream",
     "text": [
      "2025/04/04 15:27:34 WARNING mlflow.utils.requirements_utils: Detected one or more mismatches between the model's dependencies and the current Python environment:\n - mlflow (current: 2.21.3, required: mlflow==2.11.4)\nTo fix the mismatches, call `mlflow.pyfunc.get_model_dependencies(model_uri)` to fetch the model's environment and install dependencies using the resulting environment file.\n2025/04/04 15:27:34 WARNING mlflow.models.model: Model logged without a signature. Signatures will be required for upcoming model registry features as they validate model inputs and denote the expected schema of model outputs. Please visit https://www.mlflow.org/docs/2.11.4/models.html#set-signature-on-logged-model for instructions on setting a model signature on your logged model.\n"
     ]
    },
    {
     "output_type": "stream",
     "name": "stdout",
     "output_type": "stream",
     "text": [
      "Run ID: b50a6e8853f1465c8a63638921676f95\nModel training complete!\n"
     ]
    }
   ],
   "source": [
    "# After preparing the dataset\n",
    "\n",
    "# Define features and target\n",
    "\n",
    "X = df[['position_quali', 'grid', 'experience_years', 'round', 'year', 'circuitId', 'finished_race']]\n",
    "\n",
    "# Add qualifying time features \n",
    "for col in df.columns:\n",
    "    if col.endswith('_seconds'):\n",
    "        X[col] = df[col]\n",
    "\n",
    "# Add fastest lap features \n",
    "if 'fastestLapSpeed' in df.columns:\n",
    "    X['fastestLapSpeed'] = df['fastestLapSpeed']\n",
    "\n",
    "# Target variable: race finish position\n",
    "y = df['position_result']\n",
    "\n",
    "# Print shapes to verify data preparation\n",
    "print(f\"Feature dataset shape: {X.shape}\")\n",
    "print(f\"Target variable shape: {y.shape}\")\n",
    "\n",
    "# Handle problematic values\n",
    "for col in X.columns:\n",
    "    if X[col].dtype == object:  \n",
    "        X[col] = X[col].replace('\\\\N', np.nan)\n",
    "        \n",
    "    # Try to convert to numeric\n",
    "    if X[col].dtype == object:\n",
    "        X[col] = pd.to_numeric(X[col], errors='coerce')\n",
    "\n",
    "# Check for missing values\n",
    "print(\"Columns with missing values:\", X.isna().sum()[X.isna().sum() > 0])\n",
    "\n",
    "# Drop rows with any missing values\n",
    "X_clean = X.dropna()\n",
    "y_clean = y.loc[X_clean.index] \n",
    "\n",
    "# Check shape after handling missing values\n",
    "print(f\"Feature dataset shape after cleaning: {X_clean.shape}\")\n",
    "print(f\"Target variable shape after cleaning: {y_clean.shape}\")\n",
    "\n",
    "# Import ML libraries\n",
    "from sklearn.model_selection import train_test_split\n",
    "from sklearn.ensemble import RandomForestRegressor\n",
    "from sklearn.preprocessing import StandardScaler\n",
    "from sklearn.pipeline import Pipeline\n",
    "from sklearn.metrics import mean_squared_error, mean_absolute_error, r2_score\n",
    "import mlflow\n",
    "import mlflow.sklearn\n",
    "import matplotlib.pyplot as plt\n",
    "import numpy as np\n",
    "\n",
    "# Set up MLflow experiment\n",
    "mlflow.set_experiment(\"/Users/an3016@columbia.edu/F1_Race_Position_Prediction\")\n",
    "\n",
    "# Split the data into training and testing sets\n",
    "X_train, X_test, y_train, y_test = train_test_split(X_clean, y_clean, test_size=0.2, random_state=42)\n",
    "\n",
    "# Define your first model with some hyperparameters\n",
    "model = Pipeline([\n",
    "    ('scaler', StandardScaler()),\n",
    "    ('regressor', RandomForestRegressor(\n",
    "        n_estimators=100,\n",
    "        max_depth=10,\n",
    "        min_samples_split=2,\n",
    "        min_samples_leaf=1,\n",
    "        max_features='sqrt',\n",
    "        random_state=42\n",
    "    ))\n",
    "])\n",
    "\n",
    "# Start MLflow tracking\n",
    "with mlflow.start_run(run_name=\"Initial Model\") as run:\n",
    "    # Log parameters\n",
    "    params = {\n",
    "        \"n_estimators\": 100,\n",
    "        \"max_depth\": 10,\n",
    "        \"min_samples_split\": 2,\n",
    "        \"min_samples_leaf\": 1,\n",
    "        \"max_features\": \"sqrt\",\n",
    "        \"random_state\": 42\n",
    "    }\n",
    "    mlflow.log_params(params)\n",
    "    \n",
    "    # Train the model\n",
    "    model.fit(X_train, y_train)\n",
    "    \n",
    "    # Make predictions\n",
    "    y_pred = model.predict(X_test)\n",
    "    \n",
    "    # Calculate metrics\n",
    "    mse = mean_squared_error(y_test, y_pred)\n",
    "    rmse = np.sqrt(mse)\n",
    "    mae = mean_absolute_error(y_test, y_pred)\n",
    "    r2 = r2_score(y_test, y_pred)\n",
    "    \n",
    "    # Log metrics\n",
    "    mlflow.log_metric(\"mse\", mse)\n",
    "    mlflow.log_metric(\"rmse\", rmse)\n",
    "    mlflow.log_metric(\"mae\", mae)\n",
    "    mlflow.log_metric(\"r2\", r2)\n",
    "    \n",
    "    # Print metrics\n",
    "    print(f\"MSE: {mse:.4f}\")\n",
    "    print(f\"RMSE: {rmse:.4f}\")\n",
    "    print(f\"MAE: {mae:.4f}\")\n",
    "    print(f\"R²: {r2:.4f}\")\n",
    "    \n",
    "    # Create and log artifacts\n",
    "    \n",
    "    # 1. Prediction vs Actual plot\n",
    "    plt.figure(figsize=(10, 6))\n",
    "    plt.scatter(y_test, y_pred, alpha=0.5)\n",
    "    plt.plot([y_test.min(), y_test.max()], [y_test.min(), y_test.max()], 'r--')\n",
    "    plt.xlabel('Actual Race Position')\n",
    "    plt.ylabel('Predicted Race Position')\n",
    "    plt.title('Predicted vs Actual Race Position')\n",
    "    plt.tight_layout()\n",
    "    pred_plot_path = \"/tmp/prediction_plot.png\"\n",
    "    plt.savefig(pred_plot_path)\n",
    "    mlflow.log_artifact(pred_plot_path)\n",
    "    plt.close()\n",
    "    \n",
    "    # 2. Feature Importance plot\n",
    "    feature_importances = model.named_steps['regressor'].feature_importances_\n",
    "    sorted_idx = np.argsort(feature_importances)\n",
    "    plt.figure(figsize=(12, 8))\n",
    "    plt.barh(range(len(sorted_idx)), feature_importances[sorted_idx])\n",
    "    plt.yticks(range(len(sorted_idx)), np.array(X_clean.columns)[sorted_idx])\n",
    "    plt.xlabel('Feature Importance')\n",
    "    plt.title('Random Forest Feature Importance')\n",
    "    plt.tight_layout()\n",
    "    imp_plot_path = \"/tmp/feature_importance.png\"\n",
    "    plt.savefig(imp_plot_path)\n",
    "    mlflow.log_artifact(imp_plot_path)\n",
    "    plt.close()\n",
    "    \n",
    "    # 3. Save predictions CSV\n",
    "    results_df = pd.DataFrame({\n",
    "        'actual': y_test.values,\n",
    "        'predicted': y_pred,\n",
    "        'abs_error': np.abs(y_test.values - y_pred)\n",
    "    })\n",
    "    pred_csv_path = \"/tmp/predictions.csv\"\n",
    "    results_df.to_csv(pred_csv_path, index=False)\n",
    "    mlflow.log_artifact(pred_csv_path)\n",
    "    \n",
    "    # Log the model\n",
    "    mlflow.sklearn.log_model(model, \"model\")\n",
    "    \n",
    "    print(f\"Run ID: {run.info.run_id}\")\n",
    "    print(\"Model training complete!\")"
   ]
  },
  {
   "cell_type": "code",
   "execution_count": 0,
   "metadata": {
    "application/vnd.databricks.v1+cell": {
     "cellMetadata": {
      "byteLimit": 2048000,
      "rowLimit": 10000
     },
     "inputWidgets": {},
     "nuid": "61f7f409-1327-43a3-a396-29ac61ca1724",
     "showTitle": false,
     "tableResultSettingsMap": {},
     "title": ""
    }
   },
   "outputs": [
    {
     "output_type": "stream",
     "name": "stdout",
     "output_type": "stream",
     "text": [
      "Running experiment 1/10 with parameters: {'n_estimators': 100, 'max_depth': 10, 'min_samples_split': 2, 'min_samples_leaf': 1, 'max_features': 'sqrt'}\n"
     ]
    },
    {
     "output_type": "stream",
     "name": "stderr",
     "output_type": "stream",
     "text": [
      "2025/04/04 15:27:40 WARNING mlflow.utils.requirements_utils: Detected one or more mismatches between the model's dependencies and the current Python environment:\n - mlflow (current: 2.21.3, required: mlflow==2.11.4)\nTo fix the mismatches, call `mlflow.pyfunc.get_model_dependencies(model_uri)` to fetch the model's environment and install dependencies using the resulting environment file.\n2025/04/04 15:27:40 WARNING mlflow.models.model: Model logged without a signature. Signatures will be required for upcoming model registry features as they validate model inputs and denote the expected schema of model outputs. Please visit https://www.mlflow.org/docs/2.11.4/models.html#set-signature-on-logged-model for instructions on setting a model signature on your logged model.\n"
     ]
    },
    {
     "output_type": "stream",
     "name": "stdout",
     "output_type": "stream",
     "text": [
      "Run 1 complete. RMSE: 2.4407, R²: 0.5990\nRunning experiment 2/10 with parameters: {'n_estimators': 200, 'max_depth': 15, 'min_samples_split': 2, 'min_samples_leaf': 1, 'max_features': 'sqrt'}\n"
     ]
    },
    {
     "output_type": "stream",
     "name": "stderr",
     "output_type": "stream",
     "text": [
      "2025/04/04 15:27:46 WARNING mlflow.utils.requirements_utils: Detected one or more mismatches between the model's dependencies and the current Python environment:\n - mlflow (current: 2.21.3, required: mlflow==2.11.4)\nTo fix the mismatches, call `mlflow.pyfunc.get_model_dependencies(model_uri)` to fetch the model's environment and install dependencies using the resulting environment file.\n2025/04/04 15:27:46 WARNING mlflow.models.model: Model logged without a signature. Signatures will be required for upcoming model registry features as they validate model inputs and denote the expected schema of model outputs. Please visit https://www.mlflow.org/docs/2.11.4/models.html#set-signature-on-logged-model for instructions on setting a model signature on your logged model.\n"
     ]
    },
    {
     "output_type": "stream",
     "name": "stdout",
     "output_type": "stream",
     "text": [
      "Run 2 complete. RMSE: 2.4471, R²: 0.5969\nRunning experiment 3/10 with parameters: {'n_estimators': 100, 'max_depth': 20, 'min_samples_split': 5, 'min_samples_leaf': 2, 'max_features': 'sqrt'}\n"
     ]
    },
    {
     "output_type": "stream",
     "name": "stderr",
     "output_type": "stream",
     "text": [
      "2025/04/04 15:27:52 WARNING mlflow.utils.requirements_utils: Detected one or more mismatches between the model's dependencies and the current Python environment:\n - mlflow (current: 2.21.3, required: mlflow==2.11.4)\nTo fix the mismatches, call `mlflow.pyfunc.get_model_dependencies(model_uri)` to fetch the model's environment and install dependencies using the resulting environment file.\n2025/04/04 15:27:52 WARNING mlflow.models.model: Model logged without a signature. Signatures will be required for upcoming model registry features as they validate model inputs and denote the expected schema of model outputs. Please visit https://www.mlflow.org/docs/2.11.4/models.html#set-signature-on-logged-model for instructions on setting a model signature on your logged model.\n"
     ]
    },
    {
     "output_type": "stream",
     "name": "stdout",
     "output_type": "stream",
     "text": [
      "Run 3 complete. RMSE: 2.4706, R²: 0.5891\nRunning experiment 4/10 with parameters: {'n_estimators': 200, 'max_depth': None, 'min_samples_split': 2, 'min_samples_leaf': 1, 'max_features': 'sqrt'}\n"
     ]
    },
    {
     "output_type": "stream",
     "name": "stderr",
     "output_type": "stream",
     "text": [
      "2025/04/04 15:27:58 WARNING mlflow.utils.requirements_utils: Detected one or more mismatches between the model's dependencies and the current Python environment:\n - mlflow (current: 2.21.3, required: mlflow==2.11.4)\nTo fix the mismatches, call `mlflow.pyfunc.get_model_dependencies(model_uri)` to fetch the model's environment and install dependencies using the resulting environment file.\n2025/04/04 15:27:58 WARNING mlflow.models.model: Model logged without a signature. Signatures will be required for upcoming model registry features as they validate model inputs and denote the expected schema of model outputs. Please visit https://www.mlflow.org/docs/2.11.4/models.html#set-signature-on-logged-model for instructions on setting a model signature on your logged model.\n"
     ]
    },
    {
     "output_type": "stream",
     "name": "stdout",
     "output_type": "stream",
     "text": [
      "Run 4 complete. RMSE: 2.4465, R²: 0.5970\nRunning experiment 5/10 with parameters: {'n_estimators': 150, 'max_depth': 15, 'min_samples_split': 10, 'min_samples_leaf': 4, 'max_features': 'log2'}\n"
     ]
    },
    {
     "output_type": "stream",
     "name": "stderr",
     "output_type": "stream",
     "text": [
      "2025/04/04 15:28:04 WARNING mlflow.utils.requirements_utils: Detected one or more mismatches between the model's dependencies and the current Python environment:\n - mlflow (current: 2.21.3, required: mlflow==2.11.4)\nTo fix the mismatches, call `mlflow.pyfunc.get_model_dependencies(model_uri)` to fetch the model's environment and install dependencies using the resulting environment file.\n2025/04/04 15:28:04 WARNING mlflow.models.model: Model logged without a signature. Signatures will be required for upcoming model registry features as they validate model inputs and denote the expected schema of model outputs. Please visit https://www.mlflow.org/docs/2.11.4/models.html#set-signature-on-logged-model for instructions on setting a model signature on your logged model.\n"
     ]
    },
    {
     "output_type": "stream",
     "name": "stdout",
     "output_type": "stream",
     "text": [
      "Run 5 complete. RMSE: 2.4702, R²: 0.5892\nRunning experiment 6/10 with parameters: {'n_estimators': 300, 'max_depth': 10, 'min_samples_split': 2, 'min_samples_leaf': 1, 'max_features': 0.7}\n"
     ]
    },
    {
     "output_type": "stream",
     "name": "stderr",
     "output_type": "stream",
     "text": [
      "2025/04/04 15:28:12 WARNING mlflow.utils.requirements_utils: Detected one or more mismatches between the model's dependencies and the current Python environment:\n - mlflow (current: 2.21.3, required: mlflow==2.11.4)\nTo fix the mismatches, call `mlflow.pyfunc.get_model_dependencies(model_uri)` to fetch the model's environment and install dependencies using the resulting environment file.\n2025/04/04 15:28:12 WARNING mlflow.models.model: Model logged without a signature. Signatures will be required for upcoming model registry features as they validate model inputs and denote the expected schema of model outputs. Please visit https://www.mlflow.org/docs/2.11.4/models.html#set-signature-on-logged-model for instructions on setting a model signature on your logged model.\n"
     ]
    },
    {
     "output_type": "stream",
     "name": "stdout",
     "output_type": "stream",
     "text": [
      "Run 6 complete. RMSE: 2.4388, R²: 0.5996\nRunning experiment 7/10 with parameters: {'n_estimators': 100, 'max_depth': 20, 'min_samples_split': 2, 'min_samples_leaf': 1, 'max_features': 0.5}\n"
     ]
    },
    {
     "output_type": "stream",
     "name": "stderr",
     "output_type": "stream",
     "text": [
      "2025/04/04 15:28:19 WARNING mlflow.utils.requirements_utils: Detected one or more mismatches between the model's dependencies and the current Python environment:\n - mlflow (current: 2.21.3, required: mlflow==2.11.4)\nTo fix the mismatches, call `mlflow.pyfunc.get_model_dependencies(model_uri)` to fetch the model's environment and install dependencies using the resulting environment file.\n2025/04/04 15:28:19 WARNING mlflow.models.model: Model logged without a signature. Signatures will be required for upcoming model registry features as they validate model inputs and denote the expected schema of model outputs. Please visit https://www.mlflow.org/docs/2.11.4/models.html#set-signature-on-logged-model for instructions on setting a model signature on your logged model.\n"
     ]
    },
    {
     "output_type": "stream",
     "name": "stdout",
     "output_type": "stream",
     "text": [
      "Run 7 complete. RMSE: 2.4720, R²: 0.5886\nRunning experiment 8/10 with parameters: {'n_estimators': 200, 'max_depth': 15, 'min_samples_split': 5, 'min_samples_leaf': 2, 'max_features': 0.6}\n"
     ]
    },
    {
     "output_type": "stream",
     "name": "stderr",
     "output_type": "stream",
     "text": [
      "2025/04/04 15:28:26 WARNING mlflow.utils.requirements_utils: Detected one or more mismatches between the model's dependencies and the current Python environment:\n - mlflow (current: 2.21.3, required: mlflow==2.11.4)\nTo fix the mismatches, call `mlflow.pyfunc.get_model_dependencies(model_uri)` to fetch the model's environment and install dependencies using the resulting environment file.\n2025/04/04 15:28:26 WARNING mlflow.models.model: Model logged without a signature. Signatures will be required for upcoming model registry features as they validate model inputs and denote the expected schema of model outputs. Please visit https://www.mlflow.org/docs/2.11.4/models.html#set-signature-on-logged-model for instructions on setting a model signature on your logged model.\n"
     ]
    },
    {
     "output_type": "stream",
     "name": "stdout",
     "output_type": "stream",
     "text": [
      "Run 8 complete. RMSE: 2.4477, R²: 0.5966\nRunning experiment 9/10 with parameters: {'n_estimators': 250, 'max_depth': 12, 'min_samples_split': 3, 'min_samples_leaf': 1, 'max_features': 'sqrt'}\n"
     ]
    },
    {
     "output_type": "stream",
     "name": "stderr",
     "output_type": "stream",
     "text": [
      "2025/04/04 15:28:33 WARNING mlflow.utils.requirements_utils: Detected one or more mismatches between the model's dependencies and the current Python environment:\n - mlflow (current: 2.21.3, required: mlflow==2.11.4)\nTo fix the mismatches, call `mlflow.pyfunc.get_model_dependencies(model_uri)` to fetch the model's environment and install dependencies using the resulting environment file.\n2025/04/04 15:28:33 WARNING mlflow.models.model: Model logged without a signature. Signatures will be required for upcoming model registry features as they validate model inputs and denote the expected schema of model outputs. Please visit https://www.mlflow.org/docs/2.11.4/models.html#set-signature-on-logged-model for instructions on setting a model signature on your logged model.\n"
     ]
    },
    {
     "output_type": "stream",
     "name": "stdout",
     "output_type": "stream",
     "text": [
      "Run 9 complete. RMSE: 2.4446, R²: 0.5977\nRunning experiment 10/10 with parameters: {'n_estimators': 150, 'max_depth': 8, 'min_samples_split': 2, 'min_samples_leaf': 1, 'max_features': 'log2'}\n"
     ]
    },
    {
     "output_type": "stream",
     "name": "stderr",
     "output_type": "stream",
     "text": [
      "2025/04/04 15:28:39 WARNING mlflow.utils.requirements_utils: Detected one or more mismatches between the model's dependencies and the current Python environment:\n - mlflow (current: 2.21.3, required: mlflow==2.11.4)\nTo fix the mismatches, call `mlflow.pyfunc.get_model_dependencies(model_uri)` to fetch the model's environment and install dependencies using the resulting environment file.\n2025/04/04 15:28:39 WARNING mlflow.models.model: Model logged without a signature. Signatures will be required for upcoming model registry features as they validate model inputs and denote the expected schema of model outputs. Please visit https://www.mlflow.org/docs/2.11.4/models.html#set-signature-on-logged-model for instructions on setting a model signature on your logged model.\n"
     ]
    },
    {
     "output_type": "stream",
     "name": "stdout",
     "output_type": "stream",
     "text": [
      "Run 10 complete. RMSE: 2.4366, R²: 0.6003\n"
     ]
    }
   ],
   "source": [
    "# Run the experiments\n",
    "# Define hyperparameter grid (10 different combinations)\n",
    "param_grid = [\n",
    "    {\"n_estimators\": 100, \"max_depth\": 10, \"min_samples_split\": 2, \"min_samples_leaf\": 1, \"max_features\": \"sqrt\"},\n",
    "    {\"n_estimators\": 200, \"max_depth\": 15, \"min_samples_split\": 2, \"min_samples_leaf\": 1, \"max_features\": \"sqrt\"},\n",
    "    {\"n_estimators\": 100, \"max_depth\": 20, \"min_samples_split\": 5, \"min_samples_leaf\": 2, \"max_features\": \"sqrt\"},\n",
    "    {\"n_estimators\": 200, \"max_depth\": None, \"min_samples_split\": 2, \"min_samples_leaf\": 1, \"max_features\": \"sqrt\"},\n",
    "    {\"n_estimators\": 150, \"max_depth\": 15, \"min_samples_split\": 10, \"min_samples_leaf\": 4, \"max_features\": \"log2\"},\n",
    "    {\"n_estimators\": 300, \"max_depth\": 10, \"min_samples_split\": 2, \"min_samples_leaf\": 1, \"max_features\": 0.7},\n",
    "    {\"n_estimators\": 100, \"max_depth\": 20, \"min_samples_split\": 2, \"min_samples_leaf\": 1, \"max_features\": 0.5},\n",
    "    {\"n_estimators\": 200, \"max_depth\": 15, \"min_samples_split\": 5, \"min_samples_leaf\": 2, \"max_features\": 0.6},\n",
    "    {\"n_estimators\": 250, \"max_depth\": 12, \"min_samples_split\": 3, \"min_samples_leaf\": 1, \"max_features\": \"sqrt\"},\n",
    "    {\"n_estimators\": 150, \"max_depth\": 8, \"min_samples_split\": 2, \"min_samples_leaf\": 1, \"max_features\": \"log2\"}\n",
    "]\n",
    "\n",
    "# Store results for later comparison\n",
    "results = []\n",
    "\n",
    "# Run all experiments\n",
    "for i, params in enumerate(param_grid):\n",
    "    print(f\"Running experiment {i+1}/10 with parameters: {params}\")\n",
    "    \n",
    "    # Create model with current parameters\n",
    "    model = Pipeline([\n",
    "        ('scaler', StandardScaler()),\n",
    "        ('regressor', RandomForestRegressor(\n",
    "            n_estimators=params[\"n_estimators\"],\n",
    "            max_depth=params[\"max_depth\"],\n",
    "            min_samples_split=params[\"min_samples_split\"],\n",
    "            min_samples_leaf=params[\"min_samples_leaf\"],\n",
    "            max_features=params[\"max_features\"],\n",
    "            random_state=42\n",
    "        ))\n",
    "    ])\n",
    "    \n",
    "    # Start MLflow run\n",
    "    with mlflow.start_run(run_name=f\"Run {i+1}\") as run:\n",
    "        # Log parameters\n",
    "        mlflow.log_params(params)\n",
    "        \n",
    "        # Train model\n",
    "        model.fit(X_train, y_train)\n",
    "        \n",
    "        # Make predictions\n",
    "        y_pred = model.predict(X_test)\n",
    "        \n",
    "        # Calculate metrics\n",
    "        mse = mean_squared_error(y_test, y_pred)\n",
    "        rmse = np.sqrt(mse)\n",
    "        mae = mean_absolute_error(y_test, y_pred)\n",
    "        r2 = r2_score(y_test, y_pred)\n",
    "        \n",
    "        # Log metrics\n",
    "        mlflow.log_metric(\"mse\", mse)\n",
    "        mlflow.log_metric(\"rmse\", rmse)\n",
    "        mlflow.log_metric(\"mae\", mae)\n",
    "        mlflow.log_metric(\"r2\", r2)\n",
    "        \n",
    "        # Store results\n",
    "        results.append({\n",
    "            \"run_id\": run.info.run_id,\n",
    "            \"params\": params,\n",
    "            \"mse\": mse,\n",
    "            \"rmse\": rmse,\n",
    "            \"mae\": mae,\n",
    "            \"r2\": r2\n",
    "        })\n",
    "        \n",
    "        # Create and log artifacts\n",
    "        \n",
    "        # 1. Prediction vs Actual plot\n",
    "        plt.figure(figsize=(10, 6))\n",
    "        plt.scatter(y_test, y_pred, alpha=0.5)\n",
    "        plt.plot([y_test.min(), y_test.max()], [y_test.min(), y_test.max()], 'r--')\n",
    "        plt.xlabel('Actual Race Position')\n",
    "        plt.ylabel('Predicted Race Position')\n",
    "        plt.title('Predicted vs Actual Race Position')\n",
    "        plt.tight_layout()\n",
    "        pred_plot_path = f\"/tmp/prediction_plot_run{i+1}.png\"\n",
    "        plt.savefig(pred_plot_path)\n",
    "        mlflow.log_artifact(pred_plot_path)\n",
    "        plt.close()\n",
    "        \n",
    "        # 2. Feature Importance plot\n",
    "        feature_importances = model.named_steps['regressor'].feature_importances_\n",
    "        sorted_idx = np.argsort(feature_importances)\n",
    "        plt.figure(figsize=(12, 8))\n",
    "        plt.barh(range(len(sorted_idx)), feature_importances[sorted_idx])\n",
    "        plt.yticks(range(len(sorted_idx)), np.array(X_clean.columns)[sorted_idx])\n",
    "        plt.xlabel('Feature Importance')\n",
    "        plt.title('Random Forest Feature Importance')\n",
    "        plt.tight_layout()\n",
    "        imp_plot_path = f\"/tmp/feature_importance_run{i+1}.png\"\n",
    "        plt.savefig(imp_plot_path)\n",
    "        mlflow.log_artifact(imp_plot_path)\n",
    "        plt.close()\n",
    "        \n",
    "        # Log model\n",
    "        mlflow.sklearn.log_model(model, \"model\")\n",
    "        \n",
    "        print(f\"Run {i+1} complete. RMSE: {rmse:.4f}, R²: {r2:.4f}\")"
   ]
  },
  {
   "cell_type": "code",
   "execution_count": 0,
   "metadata": {
    "application/vnd.databricks.v1+cell": {
     "cellMetadata": {
      "byteLimit": 2048000,
      "rowLimit": 10000
     },
     "inputWidgets": {},
     "nuid": "06c48166-dfd2-4d6b-91b7-8c1f60b2b2d7",
     "showTitle": false,
     "tableResultSettingsMap": {},
     "title": ""
    }
   },
   "outputs": [
    {
     "output_type": "display_data",
     "data": {
      "text/html": [
       "<style scoped>\n",
       "  .table-result-container {\n",
       "    max-height: 300px;\n",
       "    overflow: auto;\n",
       "  }\n",
       "  table, th, td {\n",
       "    border: 1px solid black;\n",
       "    border-collapse: collapse;\n",
       "  }\n",
       "  th, td {\n",
       "    padding: 5px;\n",
       "  }\n",
       "  th {\n",
       "    text-align: left;\n",
       "  }\n",
       "</style><div class='table-result-container'><table class='table-result'><thead style='background-color: white'><tr><th>run_id</th><th>n_estimators</th><th>max_depth</th><th>min_samples_split</th><th>min_samples_leaf</th><th>max_features</th><th>mse</th><th>rmse</th><th>mae</th><th>r2</th></tr></thead><tbody><tr><td>d88d990ca1f34a119a0b0b964180e9f3</td><td>100</td><td>10</td><td>2</td><td>1</td><td>sqrt</td><td>5.956988844545126</td><td>2.440694336565955</td><td>1.8278381802660764</td><td>0.5989558296571849</td></tr><tr><td>d49dc1f9a5674c6aaf8a850ced356241</td><td>200</td><td>15</td><td>2</td><td>1</td><td>sqrt</td><td>5.988233599453018</td><td>2.4470867576473494</td><td>1.84662937828018</td><td>0.5968523295270688</td></tr><tr><td>7cfd53481df14c259214781d3757fb81</td><td>100</td><td>20</td><td>5</td><td>2</td><td>sqrt</td><td>6.103912210381039</td><td>2.4706096839405935</td><td>1.8576112445768223</td><td>0.5890644632481989</td></tr><tr><td>f3d058fb1f1a4c45801a4a00fcc6fc5a</td><td>200</td><td>None</td><td>2</td><td>1</td><td>sqrt</td><td>5.985457601054481</td><td>2.446519487160174</td><td>1.8469156414762742</td><td>0.5970392189108946</td></tr><tr><td>52a68a9e42a74f94948f2b52a804cc58</td><td>150</td><td>15</td><td>10</td><td>4</td><td>log2</td><td>6.101964964111726</td><td>2.4702155703727007</td><td>1.8485842727661752</td><td>0.5891955583005666</td></tr><tr><td>e0a2f56534334f89bd380198656c51c6</td><td>300</td><td>10</td><td>2</td><td>1</td><td>0.7</td><td>5.947737637654334</td><td>2.4387984003714482</td><td>1.8222950878668682</td><td>0.599578651470186</td></tr><tr><td>fdc7bd3cf5ff4f8f99f066c4df61fa07</td><td>100</td><td>20</td><td>2</td><td>1</td><td>0.5</td><td>6.110936905307672</td><td>2.472030927255497</td><td>1.8574172519838836</td><td>0.5885915375768099</td></tr><tr><td>7de3303306d34e5eb20a67016b559548</td><td>200</td><td>15</td><td>5</td><td>2</td><td>0.6</td><td>5.991470234805566</td><td>2.447747992503633</td><td>1.83817648658809</td><td>0.5966344285415981</td></tr><tr><td>4ade51c6404a47c2a840dd76c78e6af1</td><td>250</td><td>12</td><td>3</td><td>1</td><td>sqrt</td><td>5.9763064275511235</td><td>2.4446485284292145</td><td>1.8366247456153346</td><td>0.5976553061457529</td></tr><tr><td>a5b47749bf5f4351892a1d27736758a6</td><td>150</td><td>8</td><td>2</td><td>1</td><td>log2</td><td>5.937161133189323</td><td>2.436629051207697</td><td>1.8346636782475334</td><td>0.6002906966945415</td></tr></tbody></table></div>"
      ]
     },
     "metadata": {
      "application/vnd.databricks.v1+output": {
       "addedWidgets": {},
       "aggData": [],
       "aggError": "",
       "aggOverflow": false,
       "aggSchema": [],
       "aggSeriesLimitReached": false,
       "aggType": "",
       "arguments": {},
       "columnCustomDisplayInfos": {},
       "data": [
        [
         "d88d990ca1f34a119a0b0b964180e9f3",
         100,
         "10",
         2,
         1,
         "sqrt",
         5.956988844545126,
         2.440694336565955,
         1.8278381802660764,
         0.5989558296571849
        ],
        [
         "d49dc1f9a5674c6aaf8a850ced356241",
         200,
         "15",
         2,
         1,
         "sqrt",
         5.988233599453018,
         2.4470867576473494,
         1.84662937828018,
         0.5968523295270688
        ],
        [
         "7cfd53481df14c259214781d3757fb81",
         100,
         "20",
         5,
         2,
         "sqrt",
         6.103912210381039,
         2.4706096839405935,
         1.8576112445768223,
         0.5890644632481989
        ],
        [
         "f3d058fb1f1a4c45801a4a00fcc6fc5a",
         200,
         "None",
         2,
         1,
         "sqrt",
         5.985457601054481,
         2.446519487160174,
         1.8469156414762742,
         0.5970392189108946
        ],
        [
         "52a68a9e42a74f94948f2b52a804cc58",
         150,
         "15",
         10,
         4,
         "log2",
         6.101964964111726,
         2.4702155703727007,
         1.8485842727661752,
         0.5891955583005666
        ],
        [
         "e0a2f56534334f89bd380198656c51c6",
         300,
         "10",
         2,
         1,
         "0.7",
         5.947737637654334,
         2.4387984003714482,
         1.8222950878668682,
         0.599578651470186
        ],
        [
         "fdc7bd3cf5ff4f8f99f066c4df61fa07",
         100,
         "20",
         2,
         1,
         "0.5",
         6.110936905307672,
         2.472030927255497,
         1.8574172519838836,
         0.5885915375768099
        ],
        [
         "7de3303306d34e5eb20a67016b559548",
         200,
         "15",
         5,
         2,
         "0.6",
         5.991470234805566,
         2.447747992503633,
         1.83817648658809,
         0.5966344285415981
        ],
        [
         "4ade51c6404a47c2a840dd76c78e6af1",
         250,
         "12",
         3,
         1,
         "sqrt",
         5.9763064275511235,
         2.4446485284292145,
         1.8366247456153346,
         0.5976553061457529
        ],
        [
         "a5b47749bf5f4351892a1d27736758a6",
         150,
         "8",
         2,
         1,
         "log2",
         5.937161133189323,
         2.436629051207697,
         1.8346636782475334,
         0.6002906966945415
        ]
       ],
       "datasetInfos": [],
       "dbfsResultPath": null,
       "isJsonSchema": true,
       "metadata": {},
       "overflow": false,
       "plotOptions": {
        "customPlotOptions": {},
        "displayType": "table",
        "pivotAggregation": null,
        "pivotColumns": null,
        "xColumns": null,
        "yColumns": null
       },
       "removedWidgets": [],
       "schema": [
        {
         "metadata": "{}",
         "name": "run_id",
         "type": "\"string\""
        },
        {
         "metadata": "{}",
         "name": "n_estimators",
         "type": "\"long\""
        },
        {
         "metadata": "{}",
         "name": "max_depth",
         "type": "\"string\""
        },
        {
         "metadata": "{}",
         "name": "min_samples_split",
         "type": "\"long\""
        },
        {
         "metadata": "{}",
         "name": "min_samples_leaf",
         "type": "\"long\""
        },
        {
         "metadata": "{}",
         "name": "max_features",
         "type": "\"string\""
        },
        {
         "metadata": "{}",
         "name": "mse",
         "type": "\"double\""
        },
        {
         "metadata": "{}",
         "name": "rmse",
         "type": "\"double\""
        },
        {
         "metadata": "{}",
         "name": "mae",
         "type": "\"double\""
        },
        {
         "metadata": "{}",
         "name": "r2",
         "type": "\"double\""
        }
       ],
       "type": "table"
      }
     },
     "output_type": "display_data"
    },
    {
     "output_type": "display_data",
     "data": {
      "text/plain": [
       "<module 'matplotlib.pyplot' from '/databricks/python/lib/python3.11/site-packages/matplotlib/pyplot.py'>"
      ]
     },
     "metadata": {},
     "output_type": "display_data"
    },
    {
     "output_type": "stream",
     "name": "stdout",
     "output_type": "stream",
     "text": [
      "\n==================================================\nBest model (Run 10):\nRun ID: a5b47749bf5f4351892a1d27736758a6\nRMSE: 2.4366\nR²: 0.6003\nParameters: n_estimators=150, max_depth=8, min_samples_split=2, min_samples_leaf=1, max_features=log2\n==================================================\n"
     ]
    },
    {
     "output_type": "display_data",
     "data": {
      "image/png": "[encoded data removed]",
      "text/plain": [
       "<Figure size 1200x600 with 1 Axes>"
      ]
     },
     "metadata": {},
     "output_type": "display_data"
    }
   ],
   "source": [
    "# Create summary dataframe\n",
    "summary_df = pd.DataFrame([\n",
    "    {\n",
    "        \"run_id\": res[\"run_id\"],\n",
    "        \"n_estimators\": res[\"params\"][\"n_estimators\"],\n",
    "        \"max_depth\": str(res[\"params\"][\"max_depth\"]),  # Handle None values\n",
    "        \"min_samples_split\": res[\"params\"][\"min_samples_split\"],\n",
    "        \"min_samples_leaf\": res[\"params\"][\"min_samples_leaf\"],\n",
    "        \"max_features\": str(res[\"params\"][\"max_features\"]),  # Handle different types\n",
    "        \"mse\": res[\"mse\"],\n",
    "        \"rmse\": res[\"rmse\"],\n",
    "        \"mae\": res[\"mae\"],\n",
    "        \"r2\": res[\"r2\"]\n",
    "    } for res in results\n",
    "])\n",
    "\n",
    "# Display summary table\n",
    "display(summary_df)\n",
    "\n",
    "# Create comparison plots\n",
    "plt.figure(figsize=(12, 6))\n",
    "plt.bar(range(len(results)), [res[\"rmse\"] for res in results])\n",
    "plt.xlabel(\"Experiment Run\")\n",
    "plt.ylabel(\"RMSE (lower is better)\")\n",
    "plt.title(\"RMSE Comparison Across Experiment Runs\")\n",
    "plt.xticks(range(len(results)), [f\"Run {i+1}\" for i in range(len(results))])\n",
    "plt.tight_layout()\n",
    "comparison_plot_path = \"/tmp/rmse_comparison.png\"\n",
    "plt.savefig(comparison_plot_path)\n",
    "display(plt)\n",
    "\n",
    "# Find best model by RMSE\n",
    "best_idx = summary_df[\"rmse\"].idxmin()\n",
    "best_model = summary_df.iloc[best_idx]\n",
    "\n",
    "print(\"\\n\" + \"=\"*50)\n",
    "print(f\"Best model (Run {best_idx + 1}):\")\n",
    "print(f\"Run ID: {best_model['run_id']}\")\n",
    "print(f\"RMSE: {best_model['rmse']:.4f}\")\n",
    "print(f\"R²: {best_model['r2']:.4f}\")\n",
    "print(f\"Parameters: n_estimators={best_model['n_estimators']}, max_depth={best_model['max_depth']}, \"\n",
    "      f\"min_samples_split={best_model['min_samples_split']}, min_samples_leaf={best_model['min_samples_leaf']}, \"\n",
    "      f\"max_features={best_model['max_features']}\")\n",
    "print(\"=\"*50)"
   ]
  },
  {
   "cell_type": "code",
   "execution_count": 0,
   "metadata": {
    "application/vnd.databricks.v1+cell": {
     "cellMetadata": {
      "byteLimit": 2048000,
      "rowLimit": 10000
     },
     "inputWidgets": {},
     "nuid": "f351ac77-b5a7-47b5-b5be-7cf8e87c5c3b",
     "showTitle": false,
     "tableResultSettingsMap": {},
     "title": ""
    }
   },
   "outputs": [],
   "source": [
    "#Run 10 achieved the best performance with an RMSE of 2.4366 and R² of 0.6003, outperforming other models due to its balanced hyperparameter configuration. The max_depth of 8 provided the optimal balance between model complexity and generalization, preventing overfitting while capturing important patterns in race performance data. The max_features setting of \"log2\" effectively handled the  F1 features by ensuring each tree considered different feature subsets, reducing correlation between trees in the ensemble. With 150 estimators, this model had enough trees to reduce prediction variance without unnecessary computational overhead. The minimal split and leaf sample requirements (2 and 1 respectively) allowed the trees to create specific decision paths for different racing scenarios, which was particularly effective for the complex relationships between qualifying position, driver experience, and race results."
   ]
  },
  {
   "cell_type": "code",
   "execution_count": 0,
   "metadata": {
    "application/vnd.databricks.v1+cell": {
     "cellMetadata": {
      "byteLimit": 2048000,
      "rowLimit": 10000
     },
     "inputWidgets": {},
     "nuid": "73358ec5-4ca8-475f-a7d6-d6a5d815eb3f",
     "showTitle": false,
     "tableResultSettingsMap": {},
     "title": ""
    }
   },
   "outputs": [],
   "source": []
  }
 ],
 "metadata": {
  "application/vnd.databricks.v1+notebook": {
   "computePreferences": null,
   "dashboards": [],
   "environmentMetadata": {
    "base_environment": "",
    "environment_version": "2"
   },
   "inputWidgetPreferences": null,
   "language": "python",
   "notebookMetadata": {
    "pythonIndentUnit": 4
   },
   "notebookName": "Take Home Assignment #3",
   "widgets": {}
  },
  "language_info": {
   "name": "python"
  }
 },
 "nbformat": 4,
 "nbformat_minor": 0
}